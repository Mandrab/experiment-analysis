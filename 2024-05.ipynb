{
 "cells": [
  {
   "cell_type": "markdown",
   "metadata": {},
   "source": [
    "# Heterogeneous robots achieve homeostasis in a dynamic environment through continuous adaptation and interaction"
   ]
  },
  {
   "cell_type": "markdown",
   "metadata": {},
   "source": [
    "Include relevant libraries"
   ]
  },
  {
   "cell_type": "code",
   "execution_count": null,
   "metadata": {},
   "outputs": [],
   "source": [
    "using Plots\n",
    "using Statistics"
   ]
  },
  {
   "cell_type": "markdown",
   "metadata": {},
   "source": [
    "Setup experimental and I/O constants"
   ]
  },
  {
   "cell_type": "code",
   "execution_count": null,
   "metadata": {},
   "outputs": [],
   "source": [
    "DATA_PATH =             \"../th\"\n",
    "VIDEO_FILE =            \"video.mp4\"\n",
    "\n",
    "ROBOTS_COUNT =          25\n",
    "TARGET_REPLICAS_COUNT = 100\n",
    "EPOCHS_COUNT =          20_000\n",
    "EPOCH_DURATION =        200\n",
    "\n",
    "START_EPOCH =           0\n",
    "CLUSTERING_RANGE =      0.3;"
   ]
  },
  {
   "cell_type": "markdown",
   "metadata": {},
   "source": [
    "Count the number of completed replicas"
   ]
  },
  {
   "cell_type": "code",
   "execution_count": null,
   "metadata": {},
   "outputs": [],
   "source": [
    "ACTUAL_REPLICAS_COUNT = count(\n",
    "    f -> startswith(f, \"performance_r\"),\n",
    "    readdir(DATA_PATH)\n",
    ") / ROBOTS_COUNT\n",
    "ACTUAL_REPLICAS_COUNT = round(Int64, ACTUAL_REPLICAS_COUNT)\n",
    "\n",
    "\"Run replicas: $ACTUAL_REPLICAS_COUNT\""
   ]
  },
  {
   "cell_type": "markdown",
   "metadata": {},
   "source": [
    "Count the number of completed epochs"
   ]
  },
  {
   "cell_type": "code",
   "execution_count": null,
   "metadata": {},
   "outputs": [],
   "source": [
    "COMPLETED_EPOCHS = round(Int32, filesize(\"$DATA_PATH/clusters.dat\") / 4 / ROBOTS_COUNT / EPOCH_DURATION)\n",
    "COMPLETED_EPOCHS = min(COMPLETED_EPOCHS, EPOCHS_COUNT)"
   ]
  },
  {
   "cell_type": "code",
   "execution_count": null,
   "metadata": {},
   "outputs": [],
   "source": [
    "# TODO temporary\n",
    "ACTUAL_REPLICAS_COUNT = 1;"
   ]
  },
  {
   "cell_type": "markdown",
   "metadata": {},
   "source": [
    "## Performance based measures"
   ]
  },
  {
   "cell_type": "markdown",
   "metadata": {},
   "source": [
    "Create a vector where to store all the performance of the robots"
   ]
  },
  {
   "cell_type": "code",
   "execution_count": null,
   "metadata": {},
   "outputs": [],
   "source": [
    "P = Matrix{Float32}(undef, ACTUAL_REPLICAS_COUNT * ROBOTS_COUNT, COMPLETED_EPOCHS);"
   ]
  },
  {
   "cell_type": "markdown",
   "metadata": {},
   "source": [
    "Load the data into the matrix"
   ]
  },
  {
   "cell_type": "code",
   "execution_count": null,
   "metadata": {},
   "outputs": [],
   "source": [
    "data = Vector{Float32}(undef, COMPLETED_EPOCHS)\n",
    "\n",
    "for i in 1:ACTUAL_REPLICAS_COUNT\n",
    "    for j in 1:ROBOTS_COUNT\n",
    "        seed = j * TARGET_REPLICAS_COUNT + i - 1\n",
    "\n",
    "        file = open(\"$DATA_PATH/performance_r$seed.dat\", \"r\", lock=false)\n",
    "\n",
    "        read!(file, data)\n",
    "        \n",
    "        P[(i - 1) * ROBOTS_COUNT + j, :] = data\n",
    "\n",
    "        close(file)\n",
    "    end\n",
    "end"
   ]
  },
  {
   "cell_type": "markdown",
   "metadata": {},
   "source": [
    "### Plot the average robot performance across the epochs"
   ]
  },
  {
   "cell_type": "code",
   "execution_count": null,
   "metadata": {},
   "outputs": [],
   "source": [
    "plot(\n",
    "    mean(P, dims=1)[1:COMPLETED_EPOCHS],\n",
    "    xlabel=\"Epochs\", ylabel=\"Performance [AVG]\",\n",
    "    legend=false\n",
    ")\n",
    "plot!([EPOCHS_COUNT / 2], linestyle=:dash, seriestype=:vline, xlims=(0, COMPLETED_EPOCHS))"
   ]
  },
  {
   "cell_type": "markdown",
   "metadata": {},
   "source": [
    "## Cluster based measures"
   ]
  },
  {
   "cell_type": "code",
   "execution_count": null,
   "metadata": {},
   "outputs": [],
   "source": [
    "file = open(\"$DATA_PATH/clusters.dat\", \"r\", lock=false)\n",
    "\n",
    "C = Matrix{Int32}(undef, ACTUAL_REPLICAS_COUNT * COMPLETED_EPOCHS, EPOCH_DURATION)\n",
    "s = Vector{Int32}(undef, ROBOTS_COUNT)\n",
    "\n",
    "for i in 1:ACTUAL_REPLICAS_COUNT * COMPLETED_EPOCHS\n",
    "    for j in 1:EPOCH_DURATION\n",
    "        read!(file, s)\n",
    "\n",
    "        C[i, j] = length(Set(s))    \n",
    "    end\n",
    "end\n",
    "\n",
    "close(file)"
   ]
  },
  {
   "cell_type": "markdown",
   "metadata": {},
   "source": [
    "### Clusters count"
   ]
  },
  {
   "cell_type": "code",
   "execution_count": null,
   "metadata": {},
   "outputs": [],
   "source": [
    "plot(\n",
    "    mean(C, dims=2)[1:COMPLETED_EPOCHS],\n",
    "    xlabel=\"Epochs\", ylabel=\"Clusters count [AVG]\",\n",
    "    legend=false\n",
    ")\n",
    "plot!([EPOCHS_COUNT / 2], linestyle=:dash, seriestype=:vline, xlims=(0, COMPLETED_EPOCHS))"
   ]
  }
 ],
 "metadata": {
  "kernelspec": {
   "display_name": "Julia 1.10.2",
   "language": "julia",
   "name": "julia-1.10"
  },
  "language_info": {
   "file_extension": ".jl",
   "mimetype": "application/julia",
   "name": "julia",
   "version": "1.10.2"
  }
 },
 "nbformat": 4,
 "nbformat_minor": 2
}
