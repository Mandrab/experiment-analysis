{
 "cells": [
  {
   "cell_type": "markdown",
   "metadata": {},
   "source": [
    "# Heterogeneous robots achieve homeostasis in a dynamic environment through continuous adaptation and interaction"
   ]
  },
  {
   "cell_type": "markdown",
   "metadata": {},
   "source": [
    "Include relevant libraries"
   ]
  },
  {
   "cell_type": "code",
   "execution_count": null,
   "metadata": {},
   "outputs": [],
   "source": [
    "using Plots\n",
    "using Statistics"
   ]
  },
  {
   "cell_type": "markdown",
   "metadata": {},
   "source": [
    "Setup experimental and I/O constants"
   ]
  },
  {
   "cell_type": "code",
   "execution_count": null,
   "metadata": {},
   "outputs": [],
   "source": [
    "DATA_PATH =             \"../th\"\n",
    "VIDEO_FILE =            \"video.mp4\"\n",
    "\n",
    "TARGET_REPLICAS =       100\n",
    "EPOCHS_COUNT =          20_000\n",
    "EPOCH_DURATION =        500\n",
    "ROBOTS_COUNT =          50;"
   ]
  },
  {
   "cell_type": "markdown",
   "metadata": {},
   "source": [
    "Count the number of completed replicas and epochs"
   ]
  },
  {
   "cell_type": "code",
   "execution_count": null,
   "metadata": {},
   "outputs": [],
   "source": [
    "STEPS_COUNT = round(Int32, filesize(\"$DATA_PATH/clusters.dat\") / 4 / ROBOTS_COUNT / EPOCH_DURATION)\n",
    "\n",
    "REPLICAS_COUNT = max(floor(Int32, STEPS_COUNT / EPOCHS_COUNT), 1)\n",
    "COMPLETED_EPOCHS = min(STEPS_COUNT, EPOCHS_COUNT)\n",
    "\n",
    "\"Run replicas: $REPLICAS_COUNT, Completed epochs: $COMPLETED_EPOCHS\""
   ]
  },
  {
   "cell_type": "markdown",
   "metadata": {},
   "source": [
    "Calculate the seeds of the completed runs"
   ]
  },
  {
   "cell_type": "code",
   "execution_count": null,
   "metadata": {},
   "outputs": [],
   "source": [
    "seeds = 1:ROBOTS_COUNT * REPLICAS_COUNT\n",
    "seeds = seeds .|> e -> 100 * floor(Int32, (e - 1) / REPLICAS_COUNT + 1) + (e - 1) % REPLICAS_COUNT;"
   ]
  },
  {
   "cell_type": "markdown",
   "metadata": {},
   "source": [
    "## Performance based measures (unordered data!)"
   ]
  },
  {
   "cell_type": "markdown",
   "metadata": {},
   "source": [
    "Create a vector where to store all the performance of the robots"
   ]
  },
  {
   "cell_type": "code",
   "execution_count": null,
   "metadata": {},
   "outputs": [],
   "source": [
    "P = Matrix{Float32}(undef, COMPLETED_EPOCHS, 0);"
   ]
  },
  {
   "cell_type": "markdown",
   "metadata": {},
   "source": [
    "Load the data into the matrix"
   ]
  },
  {
   "cell_type": "code",
   "execution_count": null,
   "metadata": {},
   "outputs": [],
   "source": [
    "data = Vector{Float32}(undef, COMPLETED_EPOCHS)\n",
    "\n",
    "for path in map(s -> \"$DATA_PATH/performance_r$s.dat\", seeds)\n",
    "    file = open(\"$DATA_PATH/$path\", \"r\", lock=false)\n",
    "\n",
    "    read!(file, data)\n",
    "    P = [P data]\n",
    "\n",
    "    close(file)\n",
    "end"
   ]
  },
  {
   "cell_type": "markdown",
   "metadata": {},
   "source": [
    "### Plot the average robot performance across the epochs"
   ]
  },
  {
   "cell_type": "code",
   "execution_count": null,
   "metadata": {},
   "outputs": [],
   "source": [
    "plot(\n",
    "    mean(P, dims=2)[1:COMPLETED_EPOCHS],\n",
    "    xlabel=\"Epochs\", ylabel=\"Performance [AVG]\",\n",
    "    legend=false\n",
    ")\n",
    "plot!([EPOCHS_COUNT / 2], linestyle=:dash, seriestype=:vline, xlims=(0, COMPLETED_EPOCHS))"
   ]
  },
  {
   "cell_type": "markdown",
   "metadata": {},
   "source": [
    "## Cluster based measures"
   ]
  },
  {
   "cell_type": "code",
   "execution_count": null,
   "metadata": {},
   "outputs": [],
   "source": [
    "file = open(\"$DATA_PATH/clusters.dat\", \"r\", lock=false)\n",
    "\n",
    "C = Matrix{Int32}(undef, REPLICAS_COUNT * COMPLETED_EPOCHS, EPOCH_DURATION)\n",
    "s = Vector{Int32}(undef, ROBOTS_COUNT)\n",
    "\n",
    "for i in 1:REPLICAS_COUNT * COMPLETED_EPOCHS\n",
    "    for j in 1:EPOCH_DURATION\n",
    "        read!(file, s)\n",
    "\n",
    "        C[i, j] = length(Set(s))    \n",
    "    end\n",
    "end\n",
    "\n",
    "close(file)"
   ]
  },
  {
   "cell_type": "markdown",
   "metadata": {},
   "source": [
    "### Clusters count"
   ]
  },
  {
   "cell_type": "code",
   "execution_count": null,
   "metadata": {},
   "outputs": [],
   "source": [
    "plot(\n",
    "    mean(C, dims=2)[1:COMPLETED_EPOCHS],\n",
    "    xlabel=\"Epochs\", ylabel=\"Clusters count [AVG]\",\n",
    "    legend=false\n",
    ")\n",
    "plot!([EPOCHS_COUNT / 2], linestyle=:dash, seriestype=:vline, xlims=(0, COMPLETED_EPOCHS))"
   ]
  }
 ],
 "metadata": {
  "kernelspec": {
   "display_name": "Julia 1.10.2",
   "language": "julia",
   "name": "julia-1.10"
  },
  "language_info": {
   "file_extension": ".jl",
   "mimetype": "application/julia",
   "name": "julia",
   "version": "1.10.2"
  }
 },
 "nbformat": 4,
 "nbformat_minor": 2
}
